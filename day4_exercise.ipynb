{
 "cells": [
  {
   "cell_type": "code",
   "execution_count": 1,
   "metadata": {},
   "outputs": [],
   "source": [
    "import requests\n",
    "kick_api = requests.get(\"http://127.0.0.1:8000/kick_starter/\")"
   ]
  },
  {
   "cell_type": "code",
   "execution_count": 2,
   "metadata": {},
   "outputs": [
    {
     "name": "stdout",
     "output_type": "stream",
     "text": [
      "[{'id': 1, 'backers_count': 5, 'blurb': 'yooo', 'category': 'football'}]\n"
     ]
    }
   ],
   "source": [
    "print(kick_api.json())"
   ]
  },
  {
   "cell_type": "code",
   "execution_count": 5,
   "metadata": {},
   "outputs": [],
   "source": [
    "kick_api = requests.post(\n",
    "    \"http://127.0.0.1:8000/kick_starter/\",\n",
    "    data = {'backers_count': '42', 'blurb': 'is stored', 'category': 'hello'}\n",
    ")"
   ]
  },
  {
   "cell_type": "code",
   "execution_count": 6,
   "metadata": {},
   "outputs": [
    {
     "name": "stdout",
     "output_type": "stream",
     "text": [
      "2\n"
     ]
    }
   ],
   "source": [
    "update_id = kick_api.json()['id']\n",
    "print(update_id)"
   ]
  },
  {
   "cell_type": "code",
   "execution_count": 7,
   "metadata": {},
   "outputs": [],
   "source": [
    "put_kick = requests.put(f'http://127.0.0.1:8000/kick_starter/{update_id}/',\n",
    "                       data = {'backers_count': 20, 'blurb': 'Updated!'}\n",
    "                       )"
   ]
  },
  {
   "cell_type": "code",
   "execution_count": 8,
   "metadata": {},
   "outputs": [],
   "source": [
    "delete_kick = requests.delete(f'http://localhost:8000/kick_starter/1/')"
   ]
  },
  {
   "cell_type": "code",
   "execution_count": 9,
   "metadata": {
    "scrolled": true
   },
   "outputs": [
    {
     "name": "stdout",
     "output_type": "stream",
     "text": [
      "204\n"
     ]
    }
   ],
   "source": [
    "print(delete_kick.status_code)"
   ]
  },
  {
   "cell_type": "code",
   "execution_count": 13,
   "metadata": {},
   "outputs": [
    {
     "name": "stdout",
     "output_type": "stream",
     "text": [
      "is stored\n"
     ]
    }
   ],
   "source": [
    "print(kick_api.json()['blurb'])"
   ]
  },
  {
   "cell_type": "code",
   "execution_count": 28,
   "metadata": {},
   "outputs": [
    {
     "name": "stdout",
     "output_type": "stream",
     "text": [
      "This is the api endpoint we just hit: http://127.0.0.1:8000/kick_starter/2/\n"
     ]
    }
   ],
   "source": [
    "rendered_api = f'http://127.0.0.1:8000/kick_starter/{update_id}/'\n",
    "detail_kick = requests.get(rendered_api)\n",
    "data = detail_kick.json()\n",
    "print(f'This is the api endpoint we just hit: {rendered_api}')"
   ]
  },
  {
   "cell_type": "code",
   "execution_count": 29,
   "metadata": {},
   "outputs": [
    {
     "data": {
      "text/plain": [
       "{'id': 2,\n",
       " 'backers_count': 42,\n",
       " 'blurb': 'This is a blurb SONNY',\n",
       " 'category': 'hello'}"
      ]
     },
     "execution_count": 29,
     "metadata": {},
     "output_type": "execute_result"
    }
   ],
   "source": [
    "data[\"blurb\"] = \"This is a blurb SONNY\"\n",
    "data"
   ]
  },
  {
   "cell_type": "code",
   "execution_count": 30,
   "metadata": {},
   "outputs": [],
   "source": [
    "put_kick = requests.put(f'http://127.0.0.1:8000/kick_starter/{update_id}/',\n",
    "                       data = data\n",
    "                       )"
   ]
  },
  {
   "cell_type": "code",
   "execution_count": 31,
   "metadata": {},
   "outputs": [
    {
     "data": {
      "text/plain": [
       "{'id': 2,\n",
       " 'backers_count': 42,\n",
       " 'blurb': 'This is a blurb SONNY',\n",
       " 'category': 'hello'}"
      ]
     },
     "execution_count": 31,
     "metadata": {},
     "output_type": "execute_result"
    }
   ],
   "source": [
    "put_kick.json()"
   ]
  },
  {
   "cell_type": "code",
   "execution_count": null,
   "metadata": {},
   "outputs": [],
   "source": []
  }
 ],
 "metadata": {
  "kernelspec": {
   "display_name": "Python 3",
   "language": "python",
   "name": "python3"
  },
  "language_info": {
   "codemirror_mode": {
    "name": "ipython",
    "version": 3
   },
   "file_extension": ".py",
   "mimetype": "text/x-python",
   "name": "python",
   "nbconvert_exporter": "python",
   "pygments_lexer": "ipython3",
   "version": "3.7.1"
  }
 },
 "nbformat": 4,
 "nbformat_minor": 2
}
